{
 "cells": [
  {
   "cell_type": "code",
   "execution_count": 0,
   "metadata": {
    "application/vnd.databricks.v1+cell": {
     "cellMetadata": {
      "byteLimit": 2048000,
      "rowLimit": 10000
     },
     "inputWidgets": {},
     "nuid": "a5860328-08b6-4b3c-973a-f347afc53d20",
     "showTitle": false,
     "title": ""
    }
   },
   "outputs": [],
   "source": [
    "from pyspark.sql import SparkSession\n",
    "from pyspark.sql.functions import col, mean, stddev\n",
    "from pyspark.sql.window import Window\n",
    "\n",
    "# Replace these values with your actual storage account and key\n",
    "storage_account_name = \"harsh98\"\n",
    "container_name = \"raw\"\n",
    "file_name = \"healthcare.csv\"\n",
    "storage_account_key = \"AV44REzH5Qj3cRLTllGrBC4D0DDKQuZcJNdtPokAAvVn213iylDKhdGkMPTCLt5WNMpaxjic1XlY+AStYoN9xQ==\" \n",
    "\n",
    "# Set up the full path to the file in ADLS Gen2\n",
    "file_path = f\"abfss://raw@harsh98.dfs.core.windows.net/healthcare.csv\"\n",
    "\n",
    "# Initialize Spark session\n",
    "spark = SparkSession.builder.appName(\"DataCleaning\").getOrCreate()\n",
    "\n",
    "# Set the configuration to use your Azure Storage account key\n",
    "spark.conf.set(f\"fs.azure.account.key.harsh98.blob.core.windows.net\", \"AV44REzH5Qj3cRLTllGrBC4D0DDKQuZcJNdtPokAAvVn213iylDKhdGkMPTCLt5WNMpaxjic1XlY+AStYoN9xQ==\")\n",
    "\n",
    "# Read the Delta file from ADLS Gen2\n",
    "df = spark.read.format(\"csv\") \\\n",
    "    .option(\"header\", \"true\") \\\n",
    "    .option(\"inferSchema\", \"true\") \\\n",
    "    .load(file_path)\n",
    "\n",
    "# Handling missing values\n",
    "df = df.na.fill({\n",
    "    \"Age\": df.agg(mean(col(\"Age\"))).first()[0],\n",
    "    \"Gender\": \"Unknown\",\n",
    "    \"Blood Type\": \"Unknown\",\n",
    "    \"Medical Condition\": \"Unknown\",\n",
    "    \"Doctor\": \"Unknown\",\n",
    "    \"Hospital\": \"Unknown\",\n",
    "    \"Insurance Provider\": \"Unknown\",\n",
    "    \"Billing Amount\": 0.0,\n",
    "    \"Room Number\": \"Unknown\",\n",
    "    \"Admission Type\": \"Unknown\",\n",
    "    \"Medication\": \"Unknown\",\n",
    "    \"Test Results\": \"Unknown\"\n",
    "})\n",
    "\n",
    "# Normalizing data\n",
    "windowSpec = Window.partitionBy()\n",
    "df = df.withColumn(\"Age\", (col(\"Age\") - mean(col(\"Age\")).over(windowSpec)) / stddev(col(\"Age\")).over(windowSpec))\n",
    "df = df.withColumn(\"Billing Amount\", (col(\"Billing Amount\") - mean(col(\"Billing Amount\")).over(windowSpec)) / stddev(col(\"Billing Amount\")).over(windowSpec))\n",
    "\n",
    "# Additional transformations can be added here\n",
    "\n",
    "# Write the cleaned data to a Parquet file in ADLS Gen2\n",
    "output_path = f\"abfss://processed@harsh91.dfs.core.windows.net/cleaned_healthcare.parquet\""
   ]
  },
  {
   "cell_type": "code",
   "execution_count": 0,
   "metadata": {
    "application/vnd.databricks.v1+cell": {
     "cellMetadata": {
      "byteLimit": 2048000,
      "rowLimit": 10000
     },
     "inputWidgets": {},
     "nuid": "206cbbf2-69e1-4f4a-9db4-ecae56bee794",
     "showTitle": false,
     "title": ""
    }
   },
   "outputs": [
    {
     "output_type": "stream",
     "name": "stdout",
     "output_type": "stream",
     "text": [
      "+-------------------+--------------------+------+----------+-----------------+-----------------+--------------+--------------------+------------------+-------------------+-----------+--------------+--------------+-----------+------------+\n|               Name|                 Age|Gender|Blood Type|Medical Condition|Date of Admission|        Doctor|            Hospital|Insurance Provider|     Billing Amount|Room Number|Admission Type|Discharge Date| Medication|Test Results|\n+-------------------+--------------------+------+----------+-----------------+-----------------+--------------+--------------------+------------------+-------------------+-----------+--------------+--------------+-----------+------------+\n|    Tiffany Ramirez|  1.5083893906507593|Female|        O-|         Diabetes|       2022-11-17|Patrick Parker|    Wallace-Hamilton|          Medicare| 0.8512068976809121|        146|      Elective|    2022-12-01|    Aspirin|Inconclusive|\n|        Ruben Burns| -0.8398704449354746|  Male|        O+|           Asthma|       2023-06-01| Diane Jackson|Burke, Griffin an...|  UnitedHealthcare| 1.5487882791723842|        404|     Emergency|    2023-06-15|    Lipitor|      Normal|\n|          Chad Byrd| 0.48740685343935325|  Male|        B-|          Obesity|       2019-01-09|    Paul Baker|          Walton LLC|          Medicare| 0.8074112378016409|        292|     Emergency|    2019-02-08|    Lipitor|      Normal|\n|  Antonio Frederick|-0.12518266888749038|  Male|        B-|           Asthma|       2020-05-02|Brian Chandler|          Garcia Ltd|          Medicare|-0.1573497282877896|        480|        Urgent|    2020-05-03| Penicillin|    Abnormal|\n|Mrs. Brandy Flowers|-0.02308441516634...|  Male|        O-|        Arthritis|       2021-07-09|Dustin Griffin|Jones, Brown and ...|  UnitedHealthcare| -0.528208429849563|        477|        Urgent|    2021-08-02|Paracetamol|      Normal|\n+-------------------+--------------------+------+----------+-----------------+-----------------+--------------+--------------------+------------------+-------------------+-----------+--------------+--------------+-----------+------------+\nonly showing top 5 rows\n\n"
     ]
    }
   ],
   "source": [
    "df.show(5)"
   ]
  },
  {
   "cell_type": "code",
   "execution_count": 0,
   "metadata": {
    "application/vnd.databricks.v1+cell": {
     "cellMetadata": {
      "byteLimit": 2048000,
      "rowLimit": 10000
     },
     "inputWidgets": {},
     "nuid": "7edca2e2-25b5-4614-ae50-d2747f73630e",
     "showTitle": false,
     "title": ""
    }
   },
   "outputs": [
    {
     "output_type": "stream",
     "name": "stdout",
     "output_type": "stream",
     "text": [
      "root\n |-- Name: string (nullable = true)\n |-- Age: double (nullable = true)\n |-- Gender: string (nullable = false)\n |-- Blood Type: string (nullable = false)\n |-- Medical Condition: string (nullable = false)\n |-- Date of Admission: date (nullable = true)\n |-- Doctor: string (nullable = false)\n |-- Hospital: string (nullable = false)\n |-- Insurance Provider: string (nullable = false)\n |-- Billing Amount: double (nullable = true)\n |-- Room Number: integer (nullable = true)\n |-- Admission Type: string (nullable = false)\n |-- Discharge Date: date (nullable = true)\n |-- Medication: string (nullable = false)\n |-- Test Results: string (nullable = false)\n\n"
     ]
    }
   ],
   "source": [
    "df.printSchema()"
   ]
  }
 ],
 "metadata": {
  "application/vnd.databricks.v1+notebook": {
   "dashboards": [],
   "environmentMetadata": null,
   "language": "python",
   "notebookMetadata": {
    "pythonIndentUnit": 4
   },
   "notebookName": "demo",
   "widgets": {}
  }
 },
 "nbformat": 4,
 "nbformat_minor": 0
}
